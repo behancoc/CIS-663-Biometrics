{
 "cells": [
  {
   "cell_type": "markdown",
   "metadata": {},
   "source": [
    "#### Brandon Hancock\n",
    "#### CIS663: Biometrics\n",
    "####  Homework 1\n",
    "#### July 22, 2019"
   ]
  },
  {
   "cell_type": "code",
   "execution_count": 74,
   "metadata": {},
   "outputs": [],
   "source": [
    "import matplotlib.pyplot as plt\n",
    "import numpy as np\n",
    "import pandas as pd\n",
    "from sklearn.metrics import plot_confusion_matrix\n",
    "import csv"
   ]
  },
  {
   "cell_type": "markdown",
   "metadata": {},
   "source": [
    "### Problem 1a:  Construct a confusion matrix. "
   ]
  },
  {
   "cell_type": "code",
   "execution_count": 75,
   "metadata": {
    "scrolled": false
   },
   "outputs": [],
   "source": [
    "df = pd.read_csv('homework1_1.csv', names=['subject', 'result', 'label'])\n"
   ]
  },
  {
   "cell_type": "code",
   "execution_count": 76,
   "metadata": {},
   "outputs": [
    {
     "data": {
      "text/html": [
       "<div>\n",
       "<style scoped>\n",
       "    .dataframe tbody tr th:only-of-type {\n",
       "        vertical-align: middle;\n",
       "    }\n",
       "\n",
       "    .dataframe tbody tr th {\n",
       "        vertical-align: top;\n",
       "    }\n",
       "\n",
       "    .dataframe thead th {\n",
       "        text-align: right;\n",
       "    }\n",
       "</style>\n",
       "<table border=\"1\" class=\"dataframe\">\n",
       "  <thead>\n",
       "    <tr style=\"text-align: right;\">\n",
       "      <th></th>\n",
       "      <th>subject</th>\n",
       "      <th>result</th>\n",
       "      <th>label</th>\n",
       "    </tr>\n",
       "  </thead>\n",
       "  <tbody>\n",
       "    <tr>\n",
       "      <th>0</th>\n",
       "      <td>s048</td>\n",
       "      <td>s025</td>\n",
       "      <td>FN</td>\n",
       "    </tr>\n",
       "    <tr>\n",
       "      <th>1</th>\n",
       "      <td>s048</td>\n",
       "      <td>s025</td>\n",
       "      <td>FN</td>\n",
       "    </tr>\n",
       "    <tr>\n",
       "      <th>2</th>\n",
       "      <td>s048</td>\n",
       "      <td>s038</td>\n",
       "      <td>FN</td>\n",
       "    </tr>\n",
       "    <tr>\n",
       "      <th>3</th>\n",
       "      <td>s048</td>\n",
       "      <td>s048</td>\n",
       "      <td>TP</td>\n",
       "    </tr>\n",
       "    <tr>\n",
       "      <th>4</th>\n",
       "      <td>s048</td>\n",
       "      <td>s037</td>\n",
       "      <td>FN</td>\n",
       "    </tr>\n",
       "  </tbody>\n",
       "</table>\n",
       "</div>"
      ],
      "text/plain": [
       "  subject result label\n",
       "0    s048   s025    FN\n",
       "1    s048   s025    FN\n",
       "2    s048   s038    FN\n",
       "3    s048   s048    TP\n",
       "4    s048   s037    FN"
      ]
     },
     "execution_count": 76,
     "metadata": {},
     "output_type": "execute_result"
    }
   ],
   "source": [
    "df.head()"
   ]
  },
  {
   "cell_type": "code",
   "execution_count": 77,
   "metadata": {},
   "outputs": [
    {
     "data": {
      "text/plain": [
       "TN    194\n",
       "TP    155\n",
       "FN     49\n",
       "FP      6\n",
       "Name: label, dtype: int64"
      ]
     },
     "execution_count": 77,
     "metadata": {},
     "output_type": "execute_result"
    }
   ],
   "source": [
    "df_copy = df\n",
    "df_copy['label'].value_counts()"
   ]
  },
  {
   "cell_type": "code",
   "execution_count": 86,
   "metadata": {},
   "outputs": [],
   "source": [
    "y_true = df_copy['subject']\n",
    "y_pred = df_copy['result']"
   ]
  },
  {
   "cell_type": "code",
   "execution_count": 89,
   "metadata": {},
   "outputs": [],
   "source": [
    "confusion_matrix = pd.crosstab(y_true, y_pred, margins=True)"
   ]
  },
  {
   "cell_type": "code",
   "execution_count": 90,
   "metadata": {},
   "outputs": [
    {
     "name": "stdout",
     "output_type": "stream",
     "text": [
      "Confusion matrix:\n",
      "result   s002  s003  s004  s005  s007  s008  s010  s011  s012  s013  ...  \\\n",
      "subject                                                              ...   \n",
      "s002        1     0     0     0     0     0     0     0     0     1  ...   \n",
      "s003        0     4     0     0     0     0     0     0     0     0  ...   \n",
      "s004        0     0     6     0     0     0     0     0     0     0  ...   \n",
      "s005        0     0     0     3     0     0     0     0     0     0  ...   \n",
      "s007        0     0     0     0     2     0     0     0     0     0  ...   \n",
      "s008        0     0     0     0     0     4     0     0     0     0  ...   \n",
      "s010        0     0     0     0     0     0     4     0     0     0  ...   \n",
      "s011        0     0     0     0     0     0     0     4     0     0  ...   \n",
      "s012        0     0     0     0     0     0     0     0     1     0  ...   \n",
      "s013        0     0     0     0     0     0     0     0     0     2  ...   \n",
      "s015        0     0     0     0     0     1     0     0     0     0  ...   \n",
      "s016        0     0     0     0     0     0     0     0     0     0  ...   \n",
      "s017        0     0     0     0     0     0     0     0     0     0  ...   \n",
      "s018        0     0     0     0     1     0     0     2     0     0  ...   \n",
      "s019        0     0     0     0     0     0     0     0     0     0  ...   \n",
      "s020        0     0     0     0     0     1     0     1     0     0  ...   \n",
      "s021        0     0     0     0     0     0     0     0     0     0  ...   \n",
      "s022        0     0     0     0     0     0     0     0     0     0  ...   \n",
      "s024        0     0     0     0     0     0     0     0     0     0  ...   \n",
      "s025        0     0     0     0     0     0     0     0     0     0  ...   \n",
      "s026        0     0     0     0     0     0     0     0     0     0  ...   \n",
      "s027        1     0     0     0     0     1     0     0     0     0  ...   \n",
      "s028        0     0     0     0     0     0     0     0     0     0  ...   \n",
      "s029        0     0     0     0     0     0     0     0     0     0  ...   \n",
      "s030        0     0     0     0     0     0     0     0     0     0  ...   \n",
      "s031        0     0     0     0     1     1     0     0     0     0  ...   \n",
      "s032        0     0     0     0     0     0     0     0     0     0  ...   \n",
      "s033        0     0     0     0     0     0     0     0     0     0  ...   \n",
      "s034        0     0     0     0     2     0     0     2     0     0  ...   \n",
      "s035        0     0     0     0     0     0     0     0     0     0  ...   \n",
      "s036        0     0     0     0     0     0     0     0     0     0  ...   \n",
      "s037        0     0     0     0     0     1     0     0     0     0  ...   \n",
      "s038        1     0     0     0     0     0     0     0     0     0  ...   \n",
      "s039        0     0     0     0     0     0     0     0     0     0  ...   \n",
      "s040        0     0     0     0     0     0     0     0     0     0  ...   \n",
      "s041        0     1     0     0     0     0     0     0     1     0  ...   \n",
      "s042        0     0     0     0     0     0     0     0     0     0  ...   \n",
      "s043        0     0     0     0     0     0     0     0     0     0  ...   \n",
      "s044        0     0     0     0     0     0     0     0     0     0  ...   \n",
      "s046        0     0     1     0     0     0     0     0     0     0  ...   \n",
      "s047        0     0     0     0     0     0     0     0     0     0  ...   \n",
      "s048        5     0     0     0     1    10     0     1     0     0  ...   \n",
      "s049        0     0     0     4     0     0     0     0     0     0  ...   \n",
      "s050        1     0     0     0     0     1     0     0     0     0  ...   \n",
      "s051        0     0     0     0     0     0     0     0     0     0  ...   \n",
      "s052        0     0     0     0     0     0     0     0     0     0  ...   \n",
      "s053        0     0     0     0     0     0     0     0     0     0  ...   \n",
      "s054        0     0     0     0     0     1     0     0     0     1  ...   \n",
      "s055        0     0     0     0     0     0     0     0     0     0  ...   \n",
      "s056        0     0     0     0     0     0     0     0     0     0  ...   \n",
      "s057        0     0     0     0     0     1     0     0     0     0  ...   \n",
      "All         9     5     7     7     7    22     4    10     2     4  ...   \n",
      "\n",
      "result   s049  s050  s051  s052  s053  s054  s055  s056  s057  All  \n",
      "subject                                                             \n",
      "s002        0     0     0     0     0     0     0     0     0    3  \n",
      "s003        0     0     0     0     0     0     0     0     0    4  \n",
      "s004        0     0     0     0     0     0     0     0     0    7  \n",
      "s005        0     0     0     0     0     0     0     0     0    4  \n",
      "s007        0     0     0     0     0     1     0     0     0    3  \n",
      "s008        0     0     0     0     0     0     0     0     0    4  \n",
      "s010        0     0     0     0     0     0     0     0     0    4  \n",
      "s011        0     0     0     0     0     0     0     0     0    4  \n",
      "s012        0     0     0     0     0     0     0     0     0    1  \n",
      "s013        0     0     0     0     0     0     0     0     0    4  \n",
      "s015        0     0     0     0     0     0     0     0     1    4  \n",
      "s016        0     0     0     0     0     0     0     0     0    6  \n",
      "s017        0     0     0     0     0     0     0     0     0    1  \n",
      "s018        0     0     0     0     0     0     0     0     0   10  \n",
      "s019        0     0     0     0     0     0     0     0     0    4  \n",
      "s020        0     0     0     0     0     0     0     0     0    3  \n",
      "s021        0     0     2     0     0     0     0     0     0    4  \n",
      "s022        0     0     0     0     0     0     0     0     0    2  \n",
      "s024        0     0     0     0     0     0     0     0     0    2  \n",
      "s025        0     0     0     0     0     0     0     0     0    4  \n",
      "s026        0     0     0     0     0     0     0     0     0    3  \n",
      "s027        0     0     0     0     0     0     0     0     0    4  \n",
      "s028        0     0     0     0     0     0     0     0     0    1  \n",
      "s029        0     0     0     0     0     0     0     0     0    3  \n",
      "s030        0     0     0     0     0     0     0     0     0    5  \n",
      "s031        0     0     1     0     0     0     0     0     0    4  \n",
      "s032        0     0     0     0     0     0     0     1     0    3  \n",
      "s033        0     0     0     0     0     0     0     0     0    5  \n",
      "s034        0     0     0     0     0     0     0     0     0    8  \n",
      "s035        0     0     0     0     0     0     0     0     0    1  \n",
      "s036        0     0     0     0     0     0     0     0     0    2  \n",
      "s037        0     0     0     0     0     0     0     0     0    5  \n",
      "s038        0     0     0     0     0     0     0     0     0    3  \n",
      "s039        0     0     0     0     0     0     0     0     0    8  \n",
      "s040        0     0     0     0     0     0     0     0     0    2  \n",
      "s041        0     0     0     0     0     0     0     0     0    2  \n",
      "s042        0     0     0     0     0     0     0     0     0    3  \n",
      "s043        0     0     0     0     0     0     0     0     0    7  \n",
      "s044        0     0     0     0     0     0     0     0     0    6  \n",
      "s046        0     0     0     0     0     0     0     0     0    7  \n",
      "s047        0     0     0     0     0     0     0     0     0    1  \n",
      "s048        0     1     3     0     0     4     0     0     1  204  \n",
      "s049        1     0     0     0     0     0     0     0     0    6  \n",
      "s050        0     1     0     0     0     0     0     0     0    4  \n",
      "s051        0     0     2     0     0     0     0     0     1    3  \n",
      "s052        0     0     0     4     0     0     0     0     0    4  \n",
      "s053        0     0     0     0     4     0     0     0     0    4  \n",
      "s054        0     0     0     0     0     1     0     0     0    4  \n",
      "s055        0     0     0     0     0     0     4     0     0    4  \n",
      "s056        0     0     0     0     0     0     0     5     0    5  \n",
      "s057        0     0     0     0     0     0     0     0     3    5  \n",
      "All         1     2     8     4     4     6     4     6     6  404  \n",
      "\n",
      "[52 rows x 51 columns]\n"
     ]
    }
   ],
   "source": [
    "print(\"Confusion matrix:\\n%s\" % confusion_matrix)"
   ]
  },
  {
   "cell_type": "code",
   "execution_count": 91,
   "metadata": {},
   "outputs": [],
   "source": [
    "import seaborn as sn"
   ]
  },
  {
   "cell_type": "code",
   "execution_count": 92,
   "metadata": {},
   "outputs": [
    {
     "data": {
      "image/png": "[encoded data removed]",
      "text/plain": [
       "<Figure size 432x288 with 2 Axes>"
      ]
     },
     "metadata": {
      "needs_background": "light"
     },
     "output_type": "display_data"
    }
   ],
   "source": [
    "sn.heatmap(confusion_matrix, annot=True)\n",
    "plt.show()"
   ]
  },
  {
   "cell_type": "code",
   "execution_count": 93,
   "metadata": {},
   "outputs": [],
   "source": [
    "from sklearn.metrics import confusion_matrix \n",
    "from sklearn.metrics import accuracy_score \n",
    "from sklearn.metrics import classification_report "
   ]
  },
  {
   "cell_type": "code",
   "execution_count": 99,
   "metadata": {
    "scrolled": true
   },
   "outputs": [],
   "source": [
    "# actual = df_copy['subject']\n",
    "# predicted = awesomeDataFrame['result']\n",
    "# results = confusion_matrix(actual, predicted) \n",
    "  \n",
    "# print('Confusion Matrix :')\n",
    "# print(results) \n",
    "# print('Accuracy Score :',accuracy_score(actual, predicted)) \n",
    "# print('Report : ')\n"
   ]
  },
  {
   "cell_type": "markdown",
   "metadata": {},
   "source": [
    "### Problem 1b:  What is the accuracy of this model? Is this a useful measure to evaluate the model?"
   ]
  },
  {
   "cell_type": "code",
   "execution_count": 55,
   "metadata": {},
   "outputs": [
    {
     "data": {
      "text/plain": [
       "TN    194\n",
       "TP    155\n",
       "FN     49\n",
       "FP      6\n",
       "Name: label, dtype: int64"
      ]
     },
     "execution_count": 55,
     "metadata": {},
     "output_type": "execute_result"
    }
   ],
   "source": [
    "df_copy['label'].value_counts()"
   ]
  },
  {
   "cell_type": "code",
   "execution_count": 56,
   "metadata": {},
   "outputs": [],
   "source": [
    "true_positive = 155\n",
    "true_negative = 194\n",
    "false_negative = 49\n",
    "false_positive = 6"
   ]
  },
  {
   "cell_type": "markdown",
   "metadata": {},
   "source": [
    "#### To determine the accuracy:"
   ]
  },
  {
   "cell_type": "code",
   "execution_count": 57,
   "metadata": {},
   "outputs": [
    {
     "name": "stdout",
     "output_type": "stream",
     "text": [
      "Accuracy Score : 0.8638613861386139\n"
     ]
    }
   ],
   "source": [
    "accuracy = (true_positive + true_negative)/ (true_positive + true_negative + false_negative + false_positive)\n",
    "print('Accuracy Score :', accuracy) "
   ]
  },
  {
   "cell_type": "markdown",
   "metadata": {},
   "source": [
    "While model accuracy is important and useful, I think precision and recall give a more complete picture of model performance."
   ]
  },
  {
   "cell_type": "markdown",
   "metadata": {},
   "source": [
    "### Problem 1c:  Compute FMR, FNMR, Precision, and Recall"
   ]
  },
  {
   "cell_type": "code",
   "execution_count": 60,
   "metadata": {},
   "outputs": [
    {
     "name": "stdout",
     "output_type": "stream",
     "text": [
      "Precision Score : 0.9627329192546584\n",
      "FMR Score : 0.037267080745341574\n",
      "FNMR Score : 0.30434782608695654\n",
      "Recall Score : 0.7598039215686274\n"
     ]
    }
   ],
   "source": [
    "precision = true_positive/(true_positive + false_positive)\n",
    "fmr = 1 - precision\n",
    "fnmr = false_negative/(true_positive + false_positive)\n",
    "recall = true_positive/(true_positive + false_negative)\n",
    "\n",
    "print('Precision Score :', precision) \n",
    "print('FMR Score :', fmr)\n",
    "print('FNMR Score :', fnmr)\n",
    "print('Recall Score :', recall)"
   ]
  },
  {
   "cell_type": "markdown",
   "metadata": {},
   "source": [
    "### Problem 2a:  How are singularities used in fingerprint recognition?"
   ]
  },
  {
   "cell_type": "markdown",
   "metadata": {},
   "source": [
    "Singularities are ridgeline patterns within the fingerprint that can yield unique shapes.  We use singularities in order to detect/extract features that can be used to uniquely identify a person by matching with a sample.  In order to perform the comparison, we align the fingerprints based upon a center point.  The center point is typically the highest loop type singularity within the fingerprint."
   ]
  },
  {
   "cell_type": "markdown",
   "metadata": {},
   "source": [
    "### Problem 2b:  What is the thinning process in fingerprint feature extraction? And what benefit do they have?"
   ]
  },
  {
   "cell_type": "markdown",
   "metadata": {},
   "source": [
    "The thinning process is used to aid in the detection of minutiae.  During this process, the ridgelines are reduced in thickness to approximately one pixel.  This is important because it aids in pixel by pixel scanning in order to determine bifurcation and termination points (actually similar to question 4 below).  Without thinning the image, it would be difficult to perform minutiae detection properly."
   ]
  },
  {
   "cell_type": "markdown",
   "metadata": {},
   "source": [
    "### Problem 2c:  Why do we need to find local ridge orientation and frequency earlier on in the processing of fingerprint image?"
   ]
  },
  {
   "cell_type": "markdown",
   "metadata": {},
   "source": [
    "just because"
   ]
  },
  {
   "cell_type": "markdown",
   "metadata": {},
   "source": [
    "### Problem 3: Perform a singularity detection in the following data. Use the definitions used in week 3 live session slides. Your answer should include all missing values in the table and the type of singularity detected."
   ]
  },
  {
   "cell_type": "code",
   "execution_count": 97,
   "metadata": {},
   "outputs": [],
   "source": [
    "problem_3_solution = pd.read_csv(\"homework1_3.csv\")"
   ]
  },
  {
   "cell_type": "code",
   "execution_count": 98,
   "metadata": {},
   "outputs": [
    {
     "data": {
      "text/html": [
       "<div>\n",
       "<style scoped>\n",
       "    .dataframe tbody tr th:only-of-type {\n",
       "        vertical-align: middle;\n",
       "    }\n",
       "\n",
       "    .dataframe tbody tr th {\n",
       "        vertical-align: top;\n",
       "    }\n",
       "\n",
       "    .dataframe thead th {\n",
       "        text-align: right;\n",
       "    }\n",
       "</style>\n",
       "<table border=\"1\" class=\"dataframe\">\n",
       "  <thead>\n",
       "    <tr style=\"text-align: right;\">\n",
       "      <th></th>\n",
       "      <th>k</th>\n",
       "      <th>𝝦</th>\n",
       "      <th>𝝳</th>\n",
       "      <th>𝝙</th>\n",
       "    </tr>\n",
       "  </thead>\n",
       "  <tbody>\n",
       "    <tr>\n",
       "      <th>0</th>\n",
       "      <td>0</td>\n",
       "      <td>80</td>\n",
       "      <td>10</td>\n",
       "      <td>10</td>\n",
       "    </tr>\n",
       "    <tr>\n",
       "      <th>1</th>\n",
       "      <td>1</td>\n",
       "      <td>90</td>\n",
       "      <td>170</td>\n",
       "      <td>-10</td>\n",
       "    </tr>\n",
       "    <tr>\n",
       "      <th>2</th>\n",
       "      <td>2</td>\n",
       "      <td>260</td>\n",
       "      <td>-210</td>\n",
       "      <td>-30</td>\n",
       "    </tr>\n",
       "    <tr>\n",
       "      <th>3</th>\n",
       "      <td>3</td>\n",
       "      <td>50</td>\n",
       "      <td>60</td>\n",
       "      <td>60</td>\n",
       "    </tr>\n",
       "    <tr>\n",
       "      <th>4</th>\n",
       "      <td>4</td>\n",
       "      <td>110</td>\n",
       "      <td>160</td>\n",
       "      <td>-20</td>\n",
       "    </tr>\n",
       "    <tr>\n",
       "      <th>5</th>\n",
       "      <td>5</td>\n",
       "      <td>270</td>\n",
       "      <td>-140</td>\n",
       "      <td>40</td>\n",
       "    </tr>\n",
       "    <tr>\n",
       "      <th>6</th>\n",
       "      <td>6</td>\n",
       "      <td>130</td>\n",
       "      <td>50</td>\n",
       "      <td>50</td>\n",
       "    </tr>\n",
       "    <tr>\n",
       "      <th>7</th>\n",
       "      <td>7</td>\n",
       "      <td>180</td>\n",
       "      <td>-100</td>\n",
       "      <td>80</td>\n",
       "    </tr>\n",
       "  </tbody>\n",
       "</table>\n",
       "</div>"
      ],
      "text/plain": [
       "   k    𝝦    𝝳   𝝙\n",
       "0  0   80   10  10\n",
       "1  1   90  170 -10\n",
       "2  2  260 -210 -30\n",
       "3  3   50   60  60\n",
       "4  4  110  160 -20\n",
       "5  5  270 -140  40\n",
       "6  6  130   50  50\n",
       "7  7  180 -100  80"
      ]
     },
     "execution_count": 98,
     "metadata": {},
     "output_type": "execute_result"
    }
   ],
   "source": [
    "problem_3_solution.head(10)"
   ]
  },
  {
   "cell_type": "markdown",
   "metadata": {},
   "source": [
    "#### 180 degrees = Loop"
   ]
  },
  {
   "cell_type": "markdown",
   "metadata": {},
   "source": [
    "### Problem 4a: Determine the 3x3 binary pixel grid bifurcation point"
   ]
  },
  {
   "cell_type": "markdown",
   "metadata": {},
   "source": [
    "Please see included attachments"
   ]
  },
  {
   "cell_type": "markdown",
   "metadata": {},
   "source": [
    "### Problem 4b: Determine the 3x3 binary pixel grid non-minutuae point"
   ]
  },
  {
   "cell_type": "markdown",
   "metadata": {},
   "source": [
    "Please see included attachments"
   ]
  },
  {
   "cell_type": "code",
   "execution_count": null,
   "metadata": {},
   "outputs": [],
   "source": []
  }
 ],
 "metadata": {
  "kernelspec": {
   "display_name": "Python 3",
   "language": "python",
   "name": "python3"
  },
  "language_info": {
   "codemirror_mode": {
    "name": "ipython",
    "version": 3
   },
   "file_extension": ".py",
   "mimetype": "text/x-python",
   "name": "python",
   "nbconvert_exporter": "python",
   "pygments_lexer": "ipython3",
   "version": "3.7.7"
  }
 },
 "nbformat": 4,
 "nbformat_minor": 4
}
